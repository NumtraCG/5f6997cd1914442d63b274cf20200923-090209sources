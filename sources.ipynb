{
 "cells": [
  {
   "cell_type": "markdown",
   "metadata": {},
   "source": [
    "***GENERATED CODE FOR sources PIPELINE.***"
   ]
  },
  {
   "cell_type": "markdown",
   "metadata": {},
   "source": [
    "***DON'T EDIT THIS CODE.***"
   ]
  },
  {
   "cell_type": "markdown",
   "metadata": {},
   "source": [
    "***CONNECTOR FUNCTIONS TO READ DATA FROM DATABRICKS FILESYSTEM.***"
   ]
  },
  {
   "cell_type": "code",
   "execution_count": null,
   "metadata": {},
   "outputs": [],
   "source": [
    "import warnings\n",
    "warnings.filterwarnings('ignore')\n",
    "\n",
    "\n",
    "class RDBMSConnector:\n",
    "\n",
    "    def fetch(spark, config):\n",
    "        drivers = {\"mssql\": \"com.microsoft.sqlserver.jdbc.SQLServerDriver\"}\n",
    "        return spark.read.format(\"jdbc\") \\\n",
    "            .option(\"url\", f\"jdbc:sqlserver://{eval(config)['host']}:{eval(config)['port']};databaseName={eval(config)['database']}\") \\\n",
    "            .option(eval(config)['qtype'], eval(config)['query']) \\\n",
    "            .option(\"user\", eval(config)['user']) \\\n",
    "            .option(\"password\", eval(config)['password']) \\\n",
    "            .option(\"driver\",  \"com.microsoft.sqlserver.jdbc.SQLServerDriver\") \\\n",
    "            .load()\n",
    "\n",
    "    def put(df, spark, config):\n",
    "        drivers = {\"mssql\": \"com.microsoft.sqlserver.jdbc.SQLServerDriver\"}\n",
    "        # Write modes: overwrite, append\n",
    "        df.write.mode(eval(config)['writemode'])\\\n",
    "            .format('jdbc') \\\n",
    "            .option(\"url\", f\"jdbc:{eval(config)['dbtype']}://{eval(config)['host']}:{eval(config)['port']};databaseName={eval(config)['database']}\") \\\n",
    "            .option(\"dbtable\", eval(config)['table']) \\\n",
    "            .option(\"user\", eval(config)['user']) \\\n",
    "            .option(\"password\", eval(config)['password']) \\\n",
    "            .option(\"driver\",  \"com.microsoft.sqlserver.jdbc.SQLServerDriver\") \\\n",
    "            .save()\n"
   ]
  },
  {
   "cell_type": "markdown",
   "metadata": {},
   "source": [
    "***TRANSFORMATIONS FUNCTIONS THAT WILL BE APPLIED ON DATA***"
   ]
  },
  {
   "cell_type": "code",
   "execution_count": null,
   "metadata": {},
   "outputs": [],
   "source": [
    "import json\n",
    "from pyspark.sql.types import IntegerType\n",
    "from pyspark.ml.feature import StringIndexer\n",
    "from pyspark.sql.functions import col, when\n",
    "from pyspark.sql.types import IntegerType\n",
    "from pyspark.sql.functions import mean, stddev, min, max, col\n",
    "\n",
    "\n",
    "class CleanseData:\n",
    "    # def __init__(self,df):\n",
    "    #     #print()\n",
    "\n",
    "    def replaceByMean(self, feature, df, mean_=-1):\n",
    "\n",
    "        meanValue = df.select(mean(col(feature.name)).alias(\n",
    "            'mean')).collect()[0][\"mean\"]\n",
    "        df.fillna(meanValue, subset=[feature.name])\n",
    "        df.withColumn(feature.name, when(col(feature.name) == \" \",\n",
    "                                         meanValue).otherwise(col(feature.name).cast(\"Integer\")))\n",
    "        return df\n",
    "\n",
    "    def replaceByMax(self, feature, df, max_=-1):\n",
    "        maxValue = df.select(max(col(feature.name)).alias('max')).collect()[\n",
    "            0][\"max\"]\n",
    "        df.fillna(maxValue, subset=[feature.name])\n",
    "        df = df.withColumn(feature.name,\n",
    "                           when(col(feature.name) == \" \", maxValue).otherwise(col(feature.name)))\n",
    "        return df\n",
    "\n",
    "    def replaceByMin(self, feature, df, min_=-1):\n",
    "        minValue = df.select(min(col(feature.name)).alias('min')).collect()[\n",
    "            0][\"min\"]\n",
    "        df.fillna(minValue, subset=[feature.name])\n",
    "        df = df.withColumn(feature.name,\n",
    "                           when(col(feature.name) == \" \", minValue).otherwise(col(feature.name)))\n",
    "        return df\n",
    "\n",
    "    def replaceByStandardDeviation(self, feature, df, stddev_=-1):\n",
    "        stddevValue = df.select(stddev(col(feature.name)).alias(\n",
    "            'stddev')).collect()[0][\"stddev\"]\n",
    "        df.fillna(stddevValue, subset=[feature.name])\n",
    "        df = df.withColumn(feature.name,\n",
    "                           when(col(feature.name) == \" \", stddevValue).otherwise(col(feature.name)))\n",
    "        return df\n",
    "\n",
    "    def replaceDateRandomly(self, feature, df):\n",
    "        fillValue = df.where(col(feature.name).isNotNull()\n",
    "                             ).head(1)[0][feature.name]\n",
    "        df.fillna(str(fillValue), subset=[feature.name])\n",
    "        df = df.withColumn(feature.name,\n",
    "                           when(col(feature.name) == \" \", fillValue).otherwise(col(feature.name)))\n",
    "        # print(\"CleanseData:replaceDateRandomly Schema : \", df.#printSchema())\n",
    "        return df\n",
    "\n",
    "    def replaceNullValues(self, fList, df):\n",
    "        featuresList = df.schema.fields\n",
    "        for featureObj in fList:\n",
    "            for feat in featuresList:\n",
    "                if featureObj[\"feature\"] in feat.name:\n",
    "                    featureName = feat\n",
    "                    if \"mean\" in featureObj[\"replaceby\"]:\n",
    "                        df = self.replaceByMean(featureName, df)\n",
    "                    elif \"max\" in featureObj[\"replaceby\"]:\n",
    "                        df = self.replaceByMax(featureName, df)\n",
    "                    elif \"min\" in featureObj[\"replaceby\"]:\n",
    "                        df = self.replaceByMin(featureName, df)\n",
    "                    elif \"stddev\" in featureObj[\"replaceby\"]:\n",
    "                        df = self.replaceByStandardDeviation(featureName, df)\n",
    "                    elif \"random\" in featureObj[\"replaceby\"]:\n",
    "                        df = self.replaceDateRandomly(featureName, df)\n",
    "        return df\n",
    "\n",
    "\n",
    "def StringIndexerTransform(df, params, transformationData={}):\n",
    "    dfReturn = df\n",
    "    feature = params[\"feature\"]\n",
    "\n",
    "    dfReturn = dfReturn.fillna({feature: ''})\n",
    "    outcol = feature + \"_stringindexer\"\n",
    "    indexer = StringIndexer(\n",
    "        inputCol=feature, outputCol=outcol, handleInvalid=\"skip\")\n",
    "    indexed = indexer.fit(dfReturn).transform(dfReturn)\n",
    "    dfReturn = indexed\n",
    "    distinct_values_list = dfReturn.select(\n",
    "        outcol).distinct().rdd.map(lambda r: r[0]).collect()\n",
    "    len_distinct_values_list = len(distinct_values_list)\n",
    "    if len_distinct_values_list <= 4:\n",
    "        changed_type_df = dfReturn.withColumn(\n",
    "            outcol, dfReturn[outcol].cast(IntegerType()))\n",
    "        return changed_type_df\n",
    "    return dfReturn\n",
    "\n",
    "\n",
    "class TransformationMain:\n",
    "    # TODO: change df argument in run with following\n",
    "    def run(transformationDF, config):\n",
    "        configObj = json.loads(config)\n",
    "        featureData = configObj[\"FE\"]\n",
    "        transformationDF = CleanseData().replaceNullValues(featureData, transformationDF)\n",
    "        transformationDF = StringIndexerTransform(transformationDF, {'transformationsData': [{'transformation_label': 'String Indexer', 'feature_label': 'State'}], 'feature': 'State', 'type': 'string', 'selected': 'True', 'replaceby': 'max', 'stats': {\n",
    "                                                  'count': '1342', 'mean': '', 'stddev': '', 'min': 'AK', 'max': 'WY', 'missing': '0'}, 'transformation': [{'transformation': 'String Indexer', 'selectedAsDefault': 1}], 'updatedLabel': 'State'}, {'transformation_label': 'String Indexer', 'feature_label': 'State'})\n",
    "        transformationDF = transformationDF.drop('State')\n",
    "        transformationDF = StringIndexerTransform(transformationDF, {'transformationsData': [{'transformation_label': 'String Indexer', 'feature_label': 'Phone'}], 'feature': 'Phone', 'type': 'string', 'selected': 'True', 'replaceby': 'max', 'stats': {\n",
    "            'count': '1342', 'mean': '', 'stddev': '', 'min': '327-3053', 'max': '422-8344', 'missing': '0'}, 'transformation': [{'transformation': 'String Indexer', 'selectedAsDefault': 1}], 'updatedLabel': 'Phone'}, {'transformation_label': 'String Indexer', 'feature_label': 'Phone'})\n",
    "        transformationDF = transformationDF.drop('Phone')\n",
    "        transformationDF = StringIndexerTransform(transformationDF, {'transformationsData': [{'transformation_label': 'String Indexer', 'feature_label': 'Intl_Plan'}], 'feature': 'Intl_Plan', 'type': 'string', 'selected': 'True', 'replaceby': 'max', 'stats': {\n",
    "            'count': '1342', 'mean': '', 'stddev': '', 'min': 'no', 'max': 'yes', 'missing': '0'}, 'transformation': [{'transformation': 'String Indexer', 'selectedAsDefault': 1}], 'updatedLabel': 'Intl_Plan'}, {'transformation_label': 'String Indexer', 'feature_label': 'Intl_Plan'})\n",
    "        transformationDF = transformationDF.drop('Intl_Plan')\n",
    "        transformationDF = StringIndexerTransform(transformationDF, {'transformationsData': [{'transformation_label': 'String Indexer', 'feature_label': 'VMail_Plan'}], 'feature': 'VMail_Plan', 'type': 'string', 'selected': 'True', 'replaceby': 'max', 'stats': {\n",
    "            'count': '1342', 'mean': '', 'stddev': '', 'min': 'no', 'max': 'yes', 'missing': '0'}, 'transformation': [{'transformation': 'String Indexer', 'selectedAsDefault': 1}], 'updatedLabel': 'VMail_Plan'}, {'transformation_label': 'String Indexer', 'feature_label': 'VMail_Plan'})\n",
    "        transformationDF = transformationDF.drop('VMail_Plan')\n",
    "        transformationDF = StringIndexerTransform(transformationDF, {'transformationsData': [{'transformation_label': 'String Indexer', 'feature_label': 'cluster_labels'}], 'feature': 'cluster_labels', 'type': 'string', 'selected': 'True', 'replaceby': 'max', 'stats': {\n",
    "            'count': '1342', 'mean': '', 'stddev': '', 'min': 'day_callers', 'max': 'vmailers', 'missing': '0'}, 'transformation': [{'transformation': 'String Indexer', 'selectedAsDefault': 1}], 'updatedLabel': 'cluster_labels'}, {'transformation_label': 'String Indexer', 'feature_label': 'cluster_labels'})\n",
    "        transformationDF = transformationDF.drop('cluster_labels')\n",
    "        display(transformationDF.limit(2).toPandas())\n",
    "        return transformationDF\n"
   ]
  },
  {
   "cell_type": "markdown",
   "metadata": {},
   "source": [
    "***AUTOML FUNCTIONS***"
   ]
  },
  {
   "cell_type": "code",
   "execution_count": null,
   "metadata": {},
   "outputs": [],
   "source": [
    "from sklearn.model_selection import train_test_split\n",
    "import lightgbm as lgb\n",
    "\n",
    "\n",
    "def gradientboostingclassifier(df, labels, features):\n",
    "    sparkDF.persist(pyspark.StorageLevel.MEMORY_AND_DISK)\n",
    "    df = (sparkDF.toPandas())\n",
    "    lightgbm_clf = lgb.LGBMClassifier()\n",
    "    X_train, X_test, y_train, y_test = train_test_split(\n",
    "        df[features], df[labels])\n",
    "    clf.fit(X_train, y_train)\n",
    "    display(\" Accuracy of Model : %s\" % lightgbm_clf.score(X_test, y_test))\n",
    "    data = {'model': lightgbm_clf,\n",
    "            'X_test': X_test,\n",
    "            'y_test': y_test,\n",
    "            'label': labels,\n",
    "            'columnNames': df.columns}\n",
    "    return data\n"
   ]
  },
  {
   "cell_type": "markdown",
   "metadata": {},
   "source": [
    "***READING DATAFRAME***"
   ]
  },
  {
   "cell_type": "code",
   "execution_count": null,
   "metadata": {},
   "outputs": [],
   "source": [
    "from pyspark.sql import SparkSession\n",
    "spark = SparkSession.builder.getOrCreate()\n",
    "\n",
    "#%run sourcesHooks.ipynb\n",
    "try:\n",
    "\t#sourcePreExecutionHook()\n",
    "\n",
    "\tsqlserver = RDBMSConnector.fetch(spark, \"{'url': '/FileStore/platform/sampleData/5f6b0d837829c358e489bedf/part-00000-2b103f0f-1d2d-4ead-9fc3-c0bb9bcd8208-c000.csv', 'file_type': 'Delimeted', 'delimiter': ',', 'is_header': 'Use Header Line', 'database': 'TestDB', 'dbtype': 'mssql', 'host': '216.168.41.46', 'password': 'R9@=L6-Wq-cPqm?A', 'port': '1433', 'qtype': 'dbtable', 'query': 'PredictiveChurnTrain', 'user': 'SA'}\")\n",
    "\t#sourcePostExecutionHook(sqlserver)\n",
    "\n",
    "except Exception as ex: \n",
    "\tlogging.error(ex)\n"
   ]
  },
  {
   "cell_type": "markdown",
   "metadata": {},
   "source": [
    "***TRANSFORMING DATAFRAME***"
   ]
  },
  {
   "cell_type": "code",
   "execution_count": null,
   "metadata": {},
   "outputs": [],
   "source": [
    "#%run sourcesHooks.ipynb\n",
    "try:\n",
    "\t#transformationPreExecutionHook()\n",
    "\n",
    "\tmanualfe = TransformationMain.run(sqlserver,json.dumps( {\"FE\": [{\"transformationsData\": [{\"transformation_label\": \"String Indexer\", \"feature_label\": \"State\"}], \"feature\": \"State\", \"type\": \"string\", \"selected\": \"True\", \"replaceby\": \"max\", \"stats\": {\"count\": \"1342\", \"mean\": \"\", \"stddev\": \"\", \"min\": \"AK\", \"max\": \"WY\", \"missing\": \"0\"}, \"transformation\": [{\"transformation\": \"String Indexer\", \"selectedAsDefault\": 1}], \"updatedLabel\": \"State\"}, {\"transformationsData\": [{\"transformation_label\": \"novalue\"}], \"feature\": \"Account_Length\", \"transformation\": [{\"transformation\": \"novalue\", \"selectedAsDefault\": 1}], \"type\": \"numeric\", \"replaceby\": \"mean\", \"selected\": \"True\", \"stats\": {\"count\": \"1342\", \"mean\": \"100.58\", \"stddev\": \"39.24\", \"min\": \"1\", \"max\": \"232\", \"missing\": \"0\"}, \"updatedLabel\": \"Account_Length\"}, {\"transformationsData\": [{\"transformation_label\": \"novalue\"}], \"feature\": \"Area_Code\", \"transformation\": [{\"transformation\": \"novalue\", \"selectedAsDefault\": 1}], \"type\": \"numeric\", \"replaceby\": \"mean\", \"selected\": \"True\", \"stats\": {\"count\": \"1342\", \"mean\": \"436.71\", \"stddev\": \"42.22\", \"min\": \"408\", \"max\": \"510\", \"missing\": \"0\"}, \"updatedLabel\": \"Area_Code\"}, {\"transformationsData\": [{\"transformation_label\": \"String Indexer\", \"feature_label\": \"Phone\"}], \"feature\": \"Phone\", \"type\": \"string\", \"selected\": \"True\", \"replaceby\": \"max\", \"stats\": {\"count\": \"1342\", \"mean\": \"\", \"stddev\": \"\", \"min\": \"327-3053\", \"max\": \"422-8344\", \"missing\": \"0\"}, \"transformation\": [{\"transformation\": \"String Indexer\", \"selectedAsDefault\": 1}], \"updatedLabel\": \"Phone\"}, {\"transformationsData\": [{\"transformation_label\": \"String Indexer\", \"feature_label\": \"Intl_Plan\"}], \"feature\": \"Intl_Plan\", \"type\": \"string\", \"selected\": \"True\", \"replaceby\": \"max\", \"stats\": {\"count\": \"1342\", \"mean\": \"\", \"stddev\": \"\", \"min\": \"no\", \"max\": \"yes\", \"missing\": \"0\"}, \"transformation\": [{\"transformation\": \"String Indexer\", \"selectedAsDefault\": 1}], \"updatedLabel\": \"Intl_Plan\"}, {\"transformationsData\": [{\"transformation_label\": \"String Indexer\", \"feature_label\": \"VMail_Plan\"}], \"feature\": \"VMail_Plan\", \"type\": \"string\", \"selected\": \"True\", \"replaceby\": \"max\", \"stats\": {\"count\": \"1342\", \"mean\": \"\", \"stddev\": \"\", \"min\": \"no\", \"max\": \"yes\", \"missing\": \"0\"}, \"transformation\": [{\"transformation\": \"String Indexer\", \"selectedAsDefault\": 1}], \"updatedLabel\": \"VMail_Plan\"}, {\"transformationsData\": [{\"transformation_label\": \"novalue\"}], \"feature\": \"VMail_Message\", \"transformation\": [{\"transformation\": \"novalue\", \"selectedAsDefault\": 1}], \"type\": \"numeric\", \"replaceby\": \"mean\", \"selected\": \"True\", \"stats\": {\"count\": \"1342\", \"mean\": \"7.96\", \"stddev\": \"13.49\", \"min\": \"0\", \"max\": \"51\", \"missing\": \"0\"}, \"updatedLabel\": \"VMail_Message\"}, {\"transformationsData\": [{\"transformation_label\": \"novalue\"}], \"feature\": \"Day_Mins\", \"type\": \"real\", \"selected\": \"True\", \"replaceby\": \"mean\", \"stats\": {\"count\": \"1342\", \"mean\": \"177.12\", \"stddev\": \"53.72\", \"min\": \"7.8\", \"max\": \"335.5\", \"missing\": \"0\"}, \"transformation\": [{\"transformation\": \"novalue\", \"selectedAsDefault\": 1}], \"updatedLabel\": \"Day_Mins\"}, {\"transformationsData\": [{\"transformation_label\": \"novalue\"}], \"feature\": \"Day_Calls\", \"transformation\": [{\"transformation\": \"novalue\", \"selectedAsDefault\": 1}], \"type\": \"numeric\", \"replaceby\": \"mean\", \"selected\": \"True\", \"stats\": {\"count\": \"1342\", \"mean\": \"100.12\", \"stddev\": \"20.57\", \"min\": \"36\", \"max\": \"165\", \"missing\": \"0\"}, \"updatedLabel\": \"Day_Calls\"}, {\"transformationsData\": [{\"transformation_label\": \"novalue\"}], \"feature\": \"Day_Charge\", \"type\": \"real\", \"selected\": \"True\", \"replaceby\": \"mean\", \"stats\": {\"count\": \"1342\", \"mean\": \"30.11\", \"stddev\": \"9.13\", \"min\": \"1.33\", \"max\": \"57.04\", \"missing\": \"0\"}, \"transformation\": [{\"transformation\": \"novalue\", \"selectedAsDefault\": 1}], \"updatedLabel\": \"Day_Charge\"}, {\"transformationsData\": [{\"transformation_label\": \"novalue\"}], \"feature\": \"Eve_Mins\", \"type\": \"real\", \"selected\": \"True\", \"replaceby\": \"mean\", \"stats\": {\"count\": \"1342\", \"mean\": \"200.76\", \"stddev\": \"51.21\", \"min\": \"0.0\", \"max\": \"354.2\", \"missing\": \"0\"}, \"transformation\": [{\"transformation\": \"novalue\", \"selectedAsDefault\": 1}], \"updatedLabel\": \"Eve_Mins\"}, {\"transformationsData\": [{\"transformation_label\": \"novalue\"}], \"feature\": \"Eve_Calls\", \"transformation\": [{\"transformation\": \"novalue\", \"selectedAsDefault\": 1}], \"type\": \"numeric\", \"replaceby\": \"mean\", \"selected\": \"True\", \"stats\": {\"count\": \"1342\", \"mean\": \"99.93\", \"stddev\": \"20.45\", \"min\": \"0\", \"max\": \"170\", \"missing\": \"0\"}, \"updatedLabel\": \"Eve_Calls\"}, {\"transformationsData\": [{\"transformation_label\": \"novalue\"}], \"feature\": \"Eve_Charge\", \"type\": \"real\", \"selected\": \"True\", \"replaceby\": \"mean\", \"stats\": {\"count\": \"1342\", \"mean\": \"17.06\", \"stddev\": \"4.35\", \"min\": \"0.0\", \"max\": \"30.11\", \"missing\": \"0\"}, \"transformation\": [{\"transformation\": \"novalue\", \"selectedAsDefault\": 1}], \"updatedLabel\": \"Eve_Charge\"}, {\"transformationsData\": [{\"transformation_label\": \"novalue\"}], \"feature\": \"Night_Mins\", \"type\": \"real\", \"selected\": \"True\", \"replaceby\": \"mean\", \"stats\": {\"count\": \"1342\", \"mean\": \"200.01\", \"stddev\": \"52.3\", \"min\": \"43.7\", \"max\": \"381.9\", \"missing\": \"0\"}, \"transformation\": [{\"transformation\": \"novalue\", \"selectedAsDefault\": 1}], \"updatedLabel\": \"Night_Mins\"}, {\"transformationsData\": [{\"transformation_label\": \"novalue\"}], \"feature\": \"Night_Calls\", \"transformation\": [{\"transformation\": \"novalue\", \"selectedAsDefault\": 1}], \"type\": \"numeric\", \"replaceby\": \"mean\", \"selected\": \"True\", \"stats\": {\"count\": \"1342\", \"mean\": \"99.79\", \"stddev\": \"19.9\", \"min\": \"33\", \"max\": \"175\", \"missing\": \"0\"}, \"updatedLabel\": \"Night_Calls\"}, {\"transformationsData\": [{\"transformation_label\": \"novalue\"}], \"feature\": \"Night_Charge\", \"type\": \"real\", \"selected\": \"True\", \"replaceby\": \"mean\", \"stats\": {\"count\": \"1342\", \"mean\": \"9.0\", \"stddev\": \"2.35\", \"min\": \"1.97\", \"max\": \"17.19\", \"missing\": \"0\"}, \"transformation\": [{\"transformation\": \"novalue\", \"selectedAsDefault\": 1}], \"updatedLabel\": \"Night_Charge\"}, {\"transformationsData\": [{\"transformation_label\": \"novalue\"}], \"feature\": \"Intl_Mins\", \"type\": \"real\", \"selected\": \"True\", \"replaceby\": \"mean\", \"stats\": {\"count\": \"1342\", \"mean\": \"10.31\", \"stddev\": \"2.78\", \"min\": \"0.0\", \"max\": \"20.0\", \"missing\": \"0\"}, \"transformation\": [{\"transformation\": \"novalue\", \"selectedAsDefault\": 1}], \"updatedLabel\": \"Intl_Mins\"}, {\"transformationsData\": [{\"transformation_label\": \"novalue\"}], \"feature\": \"total_Mins\", \"type\": \"real\", \"selected\": \"True\", \"replaceby\": \"mean\", \"stats\": {\"count\": \"1342\", \"mean\": \"588.19\", \"stddev\": \"90.02\", \"min\": \"284.3\", \"max\": \"882.2\", \"missing\": \"0\"}, \"transformation\": [{\"transformation\": \"novalue\", \"selectedAsDefault\": 1}], \"updatedLabel\": \"total_Mins\"}, {\"transformationsData\": [{\"transformation_label\": \"novalue\"}], \"feature\": \"Intl_Calls\", \"transformation\": [{\"transformation\": \"novalue\", \"selectedAsDefault\": 1}], \"type\": \"numeric\", \"replaceby\": \"mean\", \"selected\": \"True\", \"stats\": {\"count\": \"1342\", \"mean\": \"4.43\", \"stddev\": \"2.46\", \"min\": \"0\", \"max\": \"19\", \"missing\": \"0\"}, \"updatedLabel\": \"Intl_Calls\"}, {\"transformationsData\": [{\"transformation_label\": \"novalue\"}], \"feature\": \"Intl_Charge\", \"type\": \"real\", \"selected\": \"True\", \"replaceby\": \"mean\", \"stats\": {\"count\": \"1342\", \"mean\": \"2.78\", \"stddev\": \"0.75\", \"min\": \"0.0\", \"max\": \"5.4\", \"missing\": \"0\"}, \"transformation\": [{\"transformation\": \"novalue\", \"selectedAsDefault\": 1}], \"updatedLabel\": \"Intl_Charge\"}, {\"transformationsData\": [{\"transformation_label\": \"novalue\"}], \"feature\": \"Total_Charge\", \"type\": \"real\", \"selected\": \"True\", \"replaceby\": \"mean\", \"stats\": {\"count\": \"1342\", \"mean\": \"58.96\", \"stddev\": \"10.27\", \"min\": \"23.25\", \"max\": \"90.46\", \"missing\": \"0\"}, \"transformation\": [{\"transformation\": \"novalue\", \"selectedAsDefault\": 1}], \"updatedLabel\": \"Total_Charge\"}, {\"transformationsData\": [{\"transformation_label\": \"novalue\"}], \"feature\": \"CustServ_Calls\", \"transformation\": [{\"transformation\": \"novalue\", \"selectedAsDefault\": 1}], \"type\": \"numeric\", \"replaceby\": \"mean\", \"selected\": \"True\", \"stats\": {\"count\": \"1342\", \"mean\": \"1.59\", \"stddev\": \"1.36\", \"min\": \"0\", \"max\": \"9\", \"missing\": \"0\"}, \"updatedLabel\": \"CustServ_Calls\"}, {\"transformationsData\": [{\"transformation_label\": \"novalue\"}], \"feature\": \"Churn\", \"transformation\": [{\"transformation\": \"novalue\", \"selectedAsDefault\": 1}], \"type\": \"numeric\", \"replaceby\": \"mean\", \"selected\": \"True\", \"stats\": {\"count\": \"1342\", \"mean\": \"0.12\", \"stddev\": \"0.33\", \"min\": \"0\", \"max\": \"1\", \"missing\": \"0\"}, \"updatedLabel\": \"Churn\"}, {\"transformationsData\": [{\"transformation_label\": \"String Indexer\", \"feature_label\": \"cluster_labels\"}], \"feature\": \"cluster_labels\", \"type\": \"string\", \"selected\": \"True\", \"replaceby\": \"max\", \"stats\": {\"count\": \"1342\", \"mean\": \"\", \"stddev\": \"\", \"min\": \"day_callers\", \"max\": \"vmailers\", \"missing\": \"0\"}, \"transformation\": [{\"transformation\": \"String Indexer\", \"selectedAsDefault\": 1}], \"updatedLabel\": \"cluster_labels\"}]}))\n",
    "\n",
    "\t#transformationPostExecutionHook(manualfe)\n",
    "\n",
    "except Exception as ex: \n",
    "\tlogging.error(ex)\n"
   ]
  },
  {
   "cell_type": "markdown",
   "metadata": {},
   "source": [
    "***TRAIN MODEL***"
   ]
  },
  {
   "cell_type": "code",
   "execution_count": null,
   "metadata": {},
   "outputs": [],
   "source": [
    "#%run sourcesHooks.ipynb\n",
    "try:\n",
    "\t#mlPreExecutionHook()\n",
    "\n",
    "\tdataAutoML=LightGBMClassifier(manualfe, [\"State_stringindexer\", \"Account_Length\", \"Area_Code\", \"Phone_stringindexer\", \"Intl_Plan_stringindexer\", \"VMail_Plan_stringindexer\", \"VMail_Message\", \"Day_Mins\", \"Day_Calls\", \"Day_Charge\", \"Eve_Mins\", \"Eve_Calls\", \"Eve_Charge\", \"Night_Mins\", \"Night_Calls\", \"Night_Charge\", \"Intl_Mins\", \"total_Mins\", \"Intl_Calls\", \"Intl_Charge\", \"Total_Charge\", \"CustServ_Calls\", \"cluster_labels_stringindexer\"], \"Churn\")\n",
    "\n",
    "\t#mlPostExecutionHook(dataAutoML)\n",
    "\n",
    "except Exception as ex: \n",
    "\tlogging.error(ex)\n"
   ]
  }
 ],
 "metadata": {},
 "nbformat": 4,
 "nbformat_minor": 2
}
